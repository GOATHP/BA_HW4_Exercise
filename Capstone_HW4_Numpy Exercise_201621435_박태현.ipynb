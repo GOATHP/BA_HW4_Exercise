{
 "cells": [
  {
   "cell_type": "markdown",
   "metadata": {},
   "source": [
    "\n",
    "<h1 id=\"Numpy-기초연습문제\">Numpy 기초연습문제<a class=\"anchor-link\" href=\"https://eclass2.ajou.ac.kr/bbcswebdav/pid-698126-dt-content-rid-10115456_1/courses/2020U00020032020084481/Numpy_exercise.html#Numpy-%EA%B8%B0%EC%B4%88%EC%97%B0%EC%8A%B5%EB%AC%B8%EC%A0%9C\">¶</a></h1><hr/>\n"
   ]
  },
  {
   "cell_type": "code",
   "execution_count": 3,
   "metadata": {},
   "outputs": [],
   "source": [
    "\n",
    "import numpy as np\n",
    "#모듈을 불러온다.\n"
   ]
  },
  {
   "cell_type": "markdown",
   "metadata": {},
   "source": [
    "\n",
    "<h3 id=\"1.-np.zeros를-이용하여-행이-3,-열이-4인-ndarray를-생성하시오.-이-때-생성된-ndarray의-이름은-a가-되도록-한다.\">1. np.zeros를 이용하여 행이 3, 열이 4인 ndarray를 생성하시오. 이 때 생성된 ndarray의 이름은 a가 되도록 한다.<a class=\"anchor-link\" href=\"https://eclass2.ajou.ac.kr/bbcswebdav/pid-698126-dt-content-rid-10115456_1/courses/2020U00020032020084481/Numpy_exercise.html#1.-np.zeros%EB%A5%BC-%EC%9D%B4%EC%9A%A9%ED%95%98%EC%97%AC-%ED%96%89%EC%9D%B4-3,-%EC%97%B4%EC%9D%B4-4%EC%9D%B8-ndarray%EB%A5%BC-%EC%83%9D%EC%84%B1%ED%95%98%EC%8B%9C%EC%98%A4.-%EC%9D%B4-%EB%95%8C-%EC%83%9D%EC%84%B1%EB%90%9C-ndarray%EC%9D%98-%EC%9D%B4%EB%A6%84%EC%9D%80-a%EA%B0%80-%EB%90%98%EB%8F%84%EB%A1%9D-%ED%95%9C%EB%8B%A4.\">¶</a></h3>\n"
   ]
  },
  {
   "cell_type": "code",
   "execution_count": 4,
   "metadata": {},
   "outputs": [
    {
     "data": {
      "text/plain": [
       "array([[0., 0., 0., 0.],\n",
       "       [0., 0., 0., 0.],\n",
       "       [0., 0., 0., 0.]])"
      ]
     },
     "execution_count": 4,
     "metadata": {},
     "output_type": "execute_result"
    }
   ],
   "source": [
    "\n",
    "a = np.zeros((3, 4))  #3행 4열의 0으로 이루어진 행렬을 만든다.\n",
    "a\n",
    "\n"
   ]
  },
  {
   "cell_type": "markdown",
   "metadata": {},
   "source": [
    "\n",
    "<h3 id=\"2.-위에서-생성한-ndarray-a에-대하여,-다중-for-문을-이용하여-아래와-같은-값을-갖도록-초기화하시오.\">2. 위에서 생성한 ndarray a에 대하여, 다중 for 문을 이용하여 아래와 같은 값을 갖도록 초기화하시오.<a class=\"anchor-link\" href=\"https://eclass2.ajou.ac.kr/bbcswebdav/pid-698126-dt-content-rid-10115456_1/courses/2020U00020032020084481/Numpy_exercise.html#2.-%EC%9C%84%EC%97%90%EC%84%9C-%EC%83%9D%EC%84%B1%ED%95%9C-ndarray-a%EC%97%90-%EB%8C%80%ED%95%98%EC%97%AC,-%EB%8B%A4%EC%A4%91-for-%EB%AC%B8%EC%9D%84-%EC%9D%B4%EC%9A%A9%ED%95%98%EC%97%AC-%EC%95%84%EB%9E%98%EC%99%80-%EA%B0%99%EC%9D%80-%EA%B0%92%EC%9D%84-%EA%B0%96%EB%8F%84%EB%A1%9D-%EC%B4%88%EA%B8%B0%ED%99%94%ED%95%98%EC%8B%9C%EC%98%A4.\">¶</a></h3><div class=\"highlight\"><pre><span></span><span class=\"n\">array</span><span class=\"p\">([[</span> <span class=\"mf\">1.</span><span class=\"p\">,</span>  <span class=\"mf\">2.</span><span class=\"p\">,</span>  <span class=\"mf\">3.</span><span class=\"p\">,</span>  <span class=\"mf\">4.</span><span class=\"p\">],</span>\n",
    "       <span class=\"p\">[</span> <span class=\"mf\">5.</span><span class=\"p\">,</span>  <span class=\"mf\">6.</span><span class=\"p\">,</span>  <span class=\"mf\">7.</span><span class=\"p\">,</span>  <span class=\"mf\">8.</span><span class=\"p\">],</span>\n",
    "       <span class=\"p\">[</span> <span class=\"mf\">9.</span><span class=\"p\">,</span> <span class=\"mf\">10.</span><span class=\"p\">,</span> <span class=\"mf\">11.</span><span class=\"p\">,</span> <span class=\"mf\">12.</span><span class=\"p\">]])</span>\n",
    "</pre></div>\n"
   ]
  },
  {
   "cell_type": "code",
   "execution_count": 5,
   "metadata": {},
   "outputs": [
    {
     "data": {
      "text/plain": [
       "array([[ 1.,  2.,  3.,  4.],\n",
       "       [ 5.,  6.,  7.,  8.],\n",
       "       [ 9., 10., 11., 12.]])"
      ]
     },
     "execution_count": 5,
     "metadata": {},
     "output_type": "execute_result"
    }
   ],
   "source": [
    "\n",
    "for i in range(a.shape[0]): #a의 행만큼 반복\n",
    "    for j in range(a.shape[1]): #a의 열만큼 반복\n",
    "        a[i, j] = i*4 + j + 1 #a의 행, 열에 해당하는 값을 넣음\n",
    "a\n",
    "\n"
   ]
  },
  {
   "cell_type": "code",
   "execution_count": 6,
   "metadata": {},
   "outputs": [
    {
     "data": {
      "text/plain": [
       "array([[ 1.,  2.,  3.,  4.],\n",
       "       [ 5.,  6.,  7.,  8.],\n",
       "       [ 9., 10., 11., 12.]])"
      ]
     },
     "execution_count": 6,
     "metadata": {},
     "output_type": "execute_result"
    }
   ],
   "source": [
    "\n",
    "num = 1\n",
    "for i in range(a.shape[0]): #a의 행만큼 반복\n",
    "    for j in range(a.shape[1]): #a의 열만큼 반복\n",
    "        a[i, j] =  num #행,열 순서대로 num의 값 삽입\n",
    "        num += 1 #실행될수록 1씩 증가\n",
    "a\n",
    "\n"
   ]
  },
  {
   "cell_type": "markdown",
   "metadata": {},
   "source": [
    "\n",
    "<h3 id=\"3.-초기화한-a로부터-값-7을-꺼내도록-인덱싱하시오.\">3. 초기화한 a로부터 값 7을 꺼내도록 인덱싱하시오.<a class=\"anchor-link\" href=\"https://eclass2.ajou.ac.kr/bbcswebdav/pid-698126-dt-content-rid-10115456_1/courses/2020U00020032020084481/Numpy_exercise.html#3.-%EC%B4%88%EA%B8%B0%ED%99%94%ED%95%9C-a%EB%A1%9C%EB%B6%80%ED%84%B0-%EA%B0%92-7%EC%9D%84-%EA%BA%BC%EB%82%B4%EB%8F%84%EB%A1%9D-%EC%9D%B8%EB%8D%B1%EC%8B%B1%ED%95%98%EC%8B%9C%EC%98%A4.\">¶</a></h3>\n"
   ]
  },
  {
   "cell_type": "code",
   "execution_count": 7,
   "metadata": {},
   "outputs": [
    {
     "data": {
      "text/plain": [
       "7.0"
      ]
     },
     "execution_count": 7,
     "metadata": {},
     "output_type": "execute_result"
    }
   ],
   "source": [
    "\n",
    "a[1, 2] #파이썬은 0을 첫번째 순서로 인식하기 때문에 다음과 같이 입력한다.\n",
    "\n"
   ]
  },
  {
   "cell_type": "markdown",
   "metadata": {},
   "source": [
    "\n",
    "<h3 id=\"4.-a에서-아래와-같이-둘째-행을-꺼내도록-인덱싱하시오.-단-차원이-유지되어야-한다.\">4. a에서 아래와 같이 둘째 행을 꺼내도록 인덱싱하시오. 단 차원이 유지되어야 한다.<a class=\"anchor-link\" href=\"https://eclass2.ajou.ac.kr/bbcswebdav/pid-698126-dt-content-rid-10115456_1/courses/2020U00020032020084481/Numpy_exercise.html#4.-a%EC%97%90%EC%84%9C-%EC%95%84%EB%9E%98%EC%99%80-%EA%B0%99%EC%9D%B4-%EB%91%98%EC%A7%B8-%ED%96%89%EC%9D%84-%EA%BA%BC%EB%82%B4%EB%8F%84%EB%A1%9D-%EC%9D%B8%EB%8D%B1%EC%8B%B1%ED%95%98%EC%8B%9C%EC%98%A4.-%EB%8B%A8-%EC%B0%A8%EC%9B%90%EC%9D%B4-%EC%9C%A0%EC%A7%80%EB%90%98%EC%96%B4%EC%95%BC-%ED%95%9C%EB%8B%A4.\">¶</a></h3><p><code>array([[5., 6., 7., 8.]])</code></p>\n"
   ]
  },
  {
   "cell_type": "code",
   "execution_count": 8,
   "metadata": {},
   "outputs": [
    {
     "data": {
      "text/plain": [
       "(3, 4)"
      ]
     },
     "execution_count": 8,
     "metadata": {},
     "output_type": "execute_result"
    }
   ],
   "source": [
    "a.shape #행렬의 크기 추출"
   ]
  },
  {
   "cell_type": "code",
   "execution_count": 9,
   "metadata": {},
   "outputs": [
    {
     "data": {
      "text/plain": [
       "array([[5., 6., 7., 8.]])"
      ]
     },
     "execution_count": 9,
     "metadata": {},
     "output_type": "execute_result"
    }
   ],
   "source": [
    "a[[1], :] #두번쨰 행의 모든 값추출\n",
    "\n"
   ]
  },
  {
   "cell_type": "markdown",
   "metadata": {},
   "source": [
    "\n",
    "<h3 id=\"5.-a에서-아래와-같이-둘째-열과-셋째-열이-나오도록-인덱싱하시오.\">5. a에서 아래와 같이 둘째 열과 셋째 열이 나오도록 인덱싱하시오.<a class=\"anchor-link\" href=\"https://eclass2.ajou.ac.kr/bbcswebdav/pid-698126-dt-content-rid-10115456_1/courses/2020U00020032020084481/Numpy_exercise.html#5.-a%EC%97%90%EC%84%9C-%EC%95%84%EB%9E%98%EC%99%80-%EA%B0%99%EC%9D%B4-%EB%91%98%EC%A7%B8-%EC%97%B4%EA%B3%BC-%EC%85%8B%EC%A7%B8-%EC%97%B4%EC%9D%B4-%EB%82%98%EC%98%A4%EB%8F%84%EB%A1%9D-%EC%9D%B8%EB%8D%B1%EC%8B%B1%ED%95%98%EC%8B%9C%EC%98%A4.\">¶</a></h3><div class=\"highlight\"><pre><span></span><span class=\"n\">array</span><span class=\"p\">([[</span> <span class=\"mf\">2.</span><span class=\"p\">,</span>  <span class=\"mf\">3.</span><span class=\"p\">],</span>\n",
    "       <span class=\"p\">[</span> <span class=\"mf\">6.</span><span class=\"p\">,</span>  <span class=\"mf\">7.</span><span class=\"p\">],</span>\n",
    "       <span class=\"p\">[</span><span class=\"mf\">10.</span><span class=\"p\">,</span> <span class=\"mf\">11.</span><span class=\"p\">]])</span>\n",
    "</pre></div>\n"
   ]
  },
  {
   "cell_type": "code",
   "execution_count": 10,
   "metadata": {},
   "outputs": [
    {
     "data": {
      "text/plain": [
       "array([[ 2.,  3.],\n",
       "       [ 6.,  7.],\n",
       "       [10., 11.]])"
      ]
     },
     "execution_count": 10,
     "metadata": {},
     "output_type": "execute_result"
    }
   ],
   "source": [
    "\n",
    "a[:,[1, 2]] #2번째 행과 3번째 행만 슬라이싱해서 가져오는 코드\n",
    "\n"
   ]
  },
  {
   "cell_type": "markdown",
   "metadata": {},
   "source": [
    "\n",
    "<h3 id=\"6.-아래와-같이-a에서-6보다-작거나-같은-값들이-나오도록-불리안-인덱싱을-하시오.\">6. 아래와 같이 a에서 6보다 작거나 같은 값들이 나오도록 불리안 인덱싱을 하시오.<a class=\"anchor-link\" href=\"https://eclass2.ajou.ac.kr/bbcswebdav/pid-698126-dt-content-rid-10115456_1/courses/2020U00020032020084481/Numpy_exercise.html#6.-%EC%95%84%EB%9E%98%EC%99%80-%EA%B0%99%EC%9D%B4-a%EC%97%90%EC%84%9C-6%EB%B3%B4%EB%8B%A4-%EC%9E%91%EA%B1%B0%EB%82%98-%EA%B0%99%EC%9D%80-%EA%B0%92%EB%93%A4%EC%9D%B4-%EB%82%98%EC%98%A4%EB%8F%84%EB%A1%9D-%EB%B6%88%EB%A6%AC%EC%95%88-%EC%9D%B8%EB%8D%B1%EC%8B%B1%EC%9D%84-%ED%95%98%EC%8B%9C%EC%98%A4.\">¶</a></h3><div class=\"highlight\"><pre><span></span><span class=\"n\">array</span><span class=\"p\">([</span><span class=\"mf\">1.</span><span class=\"p\">,</span> <span class=\"mf\">2.</span><span class=\"p\">,</span> <span class=\"mf\">3.</span><span class=\"p\">,</span> <span class=\"mf\">4.</span><span class=\"p\">,</span> <span class=\"mf\">5.</span><span class=\"p\">,</span> <span class=\"mf\">6.</span><span class=\"p\">])</span>\n",
    "</pre></div>\n"
   ]
  },
  {
   "cell_type": "code",
   "execution_count": 11,
   "metadata": {},
   "outputs": [
    {
     "data": {
      "text/plain": [
       "array([1., 2., 3., 4., 5., 6.])"
      ]
     },
     "execution_count": 11,
     "metadata": {},
     "output_type": "execute_result"
    }
   ],
   "source": [
    "\n",
    "result = np.asarray([a[i, j] for i in range(a.shape[0]) for  j in range(a.shape[1]) if a[i, j] <= 6])\n",
    "result\n",
    "\n"
   ]
  },
  {
   "cell_type": "code",
   "execution_count": 43,
   "metadata": {},
   "outputs": [
    {
     "data": {
      "text/plain": [
       "array([1., 2., 3., 4., 5., 6.])"
      ]
     },
     "execution_count": 43,
     "metadata": {},
     "output_type": "execute_result"
    }
   ],
   "source": [
    "\n",
    "a[a <= 6] #6과 같거나 작은 값들을 추출한다.\n",
    "\n"
   ]
  },
  {
   "cell_type": "markdown",
   "metadata": {},
   "source": [
    "\n",
    "<h3 id=\"7.-np.random-패키지를-이용하여-0에서-1사이의-값이-무작위로-생성된,-행이-3-열이-4인-ndarray를-생성하시오.-이-때-생성된-ndarray의-이름은-b가-되도록-한다.\">7. np.random 패키지를 이용하여 0에서 1사이의 값이 무작위로 생성된, 행이 3 열이 4인 ndarray를 생성하시오. 이 때 생성된 ndarray의 이름은 b가 되도록 한다.<a class=\"anchor-link\" href=\"https://eclass2.ajou.ac.kr/bbcswebdav/pid-698126-dt-content-rid-10115456_1/courses/2020U00020032020084481/Numpy_exercise.html#7.-np.random-%ED%8C%A8%ED%82%A4%EC%A7%80%EB%A5%BC-%EC%9D%B4%EC%9A%A9%ED%95%98%EC%97%AC-0%EC%97%90%EC%84%9C-1%EC%82%AC%EC%9D%B4%EC%9D%98-%EA%B0%92%EC%9D%B4-%EB%AC%B4%EC%9E%91%EC%9C%84%EB%A1%9C-%EC%83%9D%EC%84%B1%EB%90%9C,-%ED%96%89%EC%9D%B4-3-%EC%97%B4%EC%9D%B4-4%EC%9D%B8-ndarray%EB%A5%BC-%EC%83%9D%EC%84%B1%ED%95%98%EC%8B%9C%EC%98%A4.-%EC%9D%B4-%EB%95%8C-%EC%83%9D%EC%84%B1%EB%90%9C-ndarray%EC%9D%98-%EC%9D%B4%EB%A6%84%EC%9D%80-b%EA%B0%80-%EB%90%98%EB%8F%84%EB%A1%9D-%ED%95%9C%EB%8B%A4.\">¶</a></h3>\n"
   ]
  },
  {
   "cell_type": "code",
   "execution_count": 12,
   "metadata": {},
   "outputs": [
    {
     "data": {
      "text/plain": [
       "array([[0.84405176, 0.2735996 , 0.87936865, 0.42963124],\n",
       "       [0.02772757, 0.28624913, 0.62772777, 0.93880516],\n",
       "       [0.75867132, 0.79144462, 0.6713473 , 0.73035992]])"
      ]
     },
     "execution_count": 12,
     "metadata": {},
     "output_type": "execute_result"
    }
   ],
   "source": [
    "\n",
    "b = np.random.random((3, 4)) #난수들을 생성하여 3행 4열 ndarray를 만듬\n",
    "b\n",
    "\n"
   ]
  },
  {
   "cell_type": "markdown",
   "metadata": {},
   "source": [
    "\n",
    "<h3 id=\"8.-a와-b의-요소곱을-하여-c에-저장하시오.\">8. a와 b의 요소곱을 하여 c에 저장하시오.<a class=\"anchor-link\" href=\"https://eclass2.ajou.ac.kr/bbcswebdav/pid-698126-dt-content-rid-10115456_1/courses/2020U00020032020084481/Numpy_exercise.html#8.-a%EC%99%80-b%EC%9D%98-%EC%9A%94%EC%86%8C%EA%B3%B1%EC%9D%84-%ED%95%98%EC%97%AC-c%EC%97%90-%EC%A0%80%EC%9E%A5%ED%95%98%EC%8B%9C%EC%98%A4.\">¶</a></h3>\n"
   ]
  },
  {
   "cell_type": "code",
   "execution_count": 13,
   "metadata": {},
   "outputs": [
    {
     "data": {
      "text/plain": [
       "array([[0.84405176, 0.54719921, 2.63810594, 1.71852496],\n",
       "       [0.13863786, 1.71749476, 4.39409436, 7.5104413 ],\n",
       "       [6.82804186, 7.91444619, 7.38482034, 8.76431904]])"
      ]
     },
     "execution_count": 13,
     "metadata": {},
     "output_type": "execute_result"
    }
   ],
   "source": [
    "\n",
    "c = a * b #a와 b의 위치가 일치하는 요소들끼리 곱합.\n",
    "c\n",
    "\n"
   ]
  },
  {
   "cell_type": "markdown",
   "metadata": {},
   "source": [
    "\n",
    "<h3 id=\"9.-b의-전치행렬을-구하여-d에-저장하시오.\">9. b의 전치행렬을 구하여 d에 저장하시오.<a class=\"anchor-link\" href=\"https://eclass2.ajou.ac.kr/bbcswebdav/pid-698126-dt-content-rid-10115456_1/courses/2020U00020032020084481/Numpy_exercise.html#9.-b%EC%9D%98-%EC%A0%84%EC%B9%98%ED%96%89%EB%A0%AC%EC%9D%84-%EA%B5%AC%ED%95%98%EC%97%AC-d%EC%97%90-%EC%A0%80%EC%9E%A5%ED%95%98%EC%8B%9C%EC%98%A4.\">¶</a></h3>\n"
   ]
  },
  {
   "cell_type": "code",
   "execution_count": 14,
   "metadata": {},
   "outputs": [
    {
     "data": {
      "text/plain": [
       "array([[0.84405176, 0.02772757, 0.75867132],\n",
       "       [0.2735996 , 0.28624913, 0.79144462],\n",
       "       [0.87936865, 0.62772777, 0.6713473 ],\n",
       "       [0.42963124, 0.93880516, 0.73035992]])"
      ]
     },
     "execution_count": 14,
     "metadata": {},
     "output_type": "execute_result"
    }
   ],
   "source": [
    "\n",
    "d = b.T #행과 열을 뒤바꿈\n",
    "d\n",
    "\n"
   ]
  },
  {
   "cell_type": "code",
   "execution_count": 15,
   "metadata": {},
   "outputs": [
    {
     "data": {
      "text/plain": [
       "(4, 3)"
      ]
     },
     "execution_count": 15,
     "metadata": {},
     "output_type": "execute_result"
    }
   ],
   "source": [
    "\n",
    "d.shape #d의 차원의 크기를 출력\n",
    "\n"
   ]
  },
  {
   "cell_type": "markdown",
   "metadata": {},
   "source": [
    "\n",
    "<h3 id=\"10.-a와-d에-대하여-각-차원의-크기를-출력하시오.\">10. a와 d에 대하여 각 차원의 크기를 출력하시오.<a class=\"anchor-link\" href=\"https://eclass2.ajou.ac.kr/bbcswebdav/pid-698126-dt-content-rid-10115456_1/courses/2020U00020032020084481/Numpy_exercise.html#10.-a%EC%99%80-d%EC%97%90-%EB%8C%80%ED%95%98%EC%97%AC-%EA%B0%81-%EC%B0%A8%EC%9B%90%EC%9D%98-%ED%81%AC%EA%B8%B0%EB%A5%BC-%EC%B6%9C%EB%A0%A5%ED%95%98%EC%8B%9C%EC%98%A4.\">¶</a></h3>\n"
   ]
  },
  {
   "cell_type": "code",
   "execution_count": 16,
   "metadata": {},
   "outputs": [
    {
     "name": "stdout",
     "output_type": "stream",
     "text": [
      "(3, 4) (4, 3)\n"
     ]
    }
   ],
   "source": [
    "\n",
    "print(a.shape, d.shape) #각 차원의 크기를 출력\n",
    "\n"
   ]
  },
  {
   "cell_type": "markdown",
   "metadata": {},
   "source": [
    "\n",
    "<h3 id=\"11.-a와-d의-행렬곱을-계산하여-e에-저장하시오.\">11. a와 d의 행렬곱을 계산하여 e에 저장하시오.<a class=\"anchor-link\" href=\"https://eclass2.ajou.ac.kr/bbcswebdav/pid-698126-dt-content-rid-10115456_1/courses/2020U00020032020084481/Numpy_exercise.html#11.-a%EC%99%80-d%EC%9D%98-%ED%96%89%EB%A0%AC%EA%B3%B1%EC%9D%84-%EA%B3%84%EC%82%B0%ED%95%98%EC%97%AC-e%EC%97%90-%EC%A0%80%EC%9E%A5%ED%95%98%EC%8B%9C%EC%98%A4.\">¶</a></h3>\n"
   ]
  },
  {
   "cell_type": "code",
   "execution_count": 17,
   "metadata": {},
   "outputs": [
    {
     "data": {
      "text/plain": [
       "array([[ 5.74788187,  6.23862978,  7.27704215],\n",
       "       [15.45448687, 13.76066829, 19.08433479],\n",
       "       [25.16109187, 21.28270681, 30.89162744]])"
      ]
     },
     "execution_count": 17,
     "metadata": {},
     "output_type": "execute_result"
    }
   ],
   "source": [
    "\n",
    "e = a.dot(d) #(3,4)와 (4,3)의 곱으로 (3,3)행렬이 생성됨\n",
    "e\n",
    "\n"
   ]
  },
  {
   "cell_type": "markdown",
   "metadata": {},
   "source": [
    "\n",
    "<h3 id=\"12.-e에-대하여-각-열의-합을-계산하시오.\">12. e에 대하여 각 열의 합을 계산하시오.<a class=\"anchor-link\" href=\"https://eclass2.ajou.ac.kr/bbcswebdav/pid-698126-dt-content-rid-10115456_1/courses/2020U00020032020084481/Numpy_exercise.html#12.-e%EC%97%90-%EB%8C%80%ED%95%98%EC%97%AC-%EA%B0%81-%EC%97%B4%EC%9D%98-%ED%95%A9%EC%9D%84-%EA%B3%84%EC%82%B0%ED%95%98%EC%8B%9C%EC%98%A4.\">¶</a></h3>\n"
   ]
  },
  {
   "cell_type": "code",
   "execution_count": 21,
   "metadata": {},
   "outputs": [
    {
     "data": {
      "text/plain": [
       "array([46.3634606 , 41.28200488, 57.25300438])"
      ]
     },
     "execution_count": 21,
     "metadata": {},
     "output_type": "execute_result"
    }
   ],
   "source": [
    "\n",
    "np.sum(e, axis=0) #axis(축)이 0이면 수직방향, 1이면 수평방향으로 합친다.\n",
    "\n"
   ]
  }
 ],
 "metadata": {
  "kernelspec": {
   "display_name": "Python 3",
   "language": "python",
   "name": "python3"
  },
  "language_info": {
   "codemirror_mode": {
    "name": "ipython",
    "version": 3
   },
   "file_extension": ".py",
   "mimetype": "text/x-python",
   "name": "python",
   "nbconvert_exporter": "python",
   "pygments_lexer": "ipython3",
   "version": "3.7.6"
  },
  "toc": {
   "base_numbering": 1,
   "nav_menu": {},
   "number_sections": true,
   "sideBar": true,
   "skip_h1_title": false,
   "title_cell": "Table of Contents",
   "title_sidebar": "Contents",
   "toc_cell": false,
   "toc_position": {},
   "toc_section_display": true,
   "toc_window_display": false
  },
  "varInspector": {
   "cols": {
    "lenName": 16,
    "lenType": 16,
    "lenVar": 40
   },
   "kernels_config": {
    "python": {
     "delete_cmd_postfix": "",
     "delete_cmd_prefix": "del ",
     "library": "var_list.py",
     "varRefreshCmd": "print(var_dic_list())"
    },
    "r": {
     "delete_cmd_postfix": ") ",
     "delete_cmd_prefix": "rm(",
     "library": "var_list.r",
     "varRefreshCmd": "cat(var_dic_list()) "
    }
   },
   "types_to_exclude": [
    "module",
    "function",
    "builtin_function_or_method",
    "instance",
    "_Feature"
   ],
   "window_display": false
  }
 },
 "nbformat": 4,
 "nbformat_minor": 1
}
